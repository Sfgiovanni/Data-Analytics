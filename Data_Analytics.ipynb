{
  "nbformat": 4,
  "nbformat_minor": 0,
  "metadata": {
    "colab": {
      "name": "Data_Analytics.ipynb",
      "provenance": []
    },
    "kernelspec": {
      "name": "python3",
      "display_name": "Python 3"
    },
    "language_info": {
      "name": "python"
    }
  },
  "cells": [
    {
      "cell_type": "markdown",
      "source": [
        "**Importações**"
      ],
      "metadata": {
        "id": "2gPsqoDKeRUt"
      }
    },
    {
      "cell_type": "code",
      "execution_count": 1,
      "metadata": {
        "id": "NhE_iu99d8OM"
      },
      "outputs": [],
      "source": [
        "import pandas as pd\n",
        "import numpy as np\n",
        "import json\n",
        "import seaborn as sns\n",
        "from sklearn.model_selection import train_test_split\n",
        "from sklearn.linear_model import LinearRegression\n",
        "from sklearn.metrics import mean_squared_error\n",
        "from sklearn.preprocessing import LabelEncoder\n",
        "from sklearn.ensemble import GradientBoostingRegressor"
      ]
    },
    {
      "cell_type": "markdown",
      "source": [
        "**Preparando os dados**"
      ],
      "metadata": {
        "id": "TIEYOjcjenY2"
      }
    },
    {
      "cell_type": "code",
      "source": [
        "df = pd.read_csv('https://raw.githubusercontent.com/alura-cursos/digital-marketing-ml/master/train.csv')\n",
        "df.head()"
      ],
      "metadata": {
        "colab": {
          "base_uri": "https://localhost:8080/",
          "height": 531
        },
        "id": "YXPhy1qaep0F",
        "outputId": "739bd9d3-5724-4198-a1dc-29e511e788d0"
      },
      "execution_count": 16,
      "outputs": [
        {
          "output_type": "execute_result",
          "data": {
            "text/html": [
              "\n",
              "  <div id=\"df-18a88208-7c29-4d26-9ce4-14a56cf9d63c\">\n",
              "    <div class=\"colab-df-container\">\n",
              "      <div>\n",
              "<style scoped>\n",
              "    .dataframe tbody tr th:only-of-type {\n",
              "        vertical-align: middle;\n",
              "    }\n",
              "\n",
              "    .dataframe tbody tr th {\n",
              "        vertical-align: top;\n",
              "    }\n",
              "\n",
              "    .dataframe thead th {\n",
              "        text-align: right;\n",
              "    }\n",
              "</style>\n",
              "<table border=\"1\" class=\"dataframe\">\n",
              "  <thead>\n",
              "    <tr style=\"text-align: right;\">\n",
              "      <th></th>\n",
              "      <th>channelGrouping</th>\n",
              "      <th>date</th>\n",
              "      <th>device</th>\n",
              "      <th>fullVisitorId</th>\n",
              "      <th>geoNetwork</th>\n",
              "      <th>sessionId</th>\n",
              "      <th>socialEngagementType</th>\n",
              "      <th>totals</th>\n",
              "      <th>trafficSource</th>\n",
              "      <th>visitId</th>\n",
              "      <th>visitNumber</th>\n",
              "      <th>visitStartTime</th>\n",
              "    </tr>\n",
              "  </thead>\n",
              "  <tbody>\n",
              "    <tr>\n",
              "      <th>0</th>\n",
              "      <td>Organic Search</td>\n",
              "      <td>20160902</td>\n",
              "      <td>{\"browser\": \"Chrome\", \"browserVersion\": \"not a...</td>\n",
              "      <td>9674781571160116268</td>\n",
              "      <td>{\"continent\": \"Asia\", \"subContinent\": \"Southea...</td>\n",
              "      <td>9674781571160116268_1472804607</td>\n",
              "      <td>Not Socially Engaged</td>\n",
              "      <td>{\"visits\": \"1\", \"hits\": \"1\", \"pageviews\": \"1\",...</td>\n",
              "      <td>{\"campaign\": \"(not set)\", \"source\": \"google\", ...</td>\n",
              "      <td>1472804607</td>\n",
              "      <td>1</td>\n",
              "      <td>1472804607</td>\n",
              "    </tr>\n",
              "    <tr>\n",
              "      <th>1</th>\n",
              "      <td>Organic Search</td>\n",
              "      <td>20160902</td>\n",
              "      <td>{\"browser\": \"Chrome\", \"browserVersion\": \"not a...</td>\n",
              "      <td>8590648239310839049</td>\n",
              "      <td>{\"continent\": \"Europe\", \"subContinent\": \"Easte...</td>\n",
              "      <td>8590648239310839049_1472835928</td>\n",
              "      <td>Not Socially Engaged</td>\n",
              "      <td>{\"visits\": \"1\", \"hits\": \"1\", \"pageviews\": \"1\",...</td>\n",
              "      <td>{\"campaign\": \"(not set)\", \"source\": \"google\", ...</td>\n",
              "      <td>1472835928</td>\n",
              "      <td>1</td>\n",
              "      <td>1472835928</td>\n",
              "    </tr>\n",
              "    <tr>\n",
              "      <th>2</th>\n",
              "      <td>Affiliates</td>\n",
              "      <td>20160902</td>\n",
              "      <td>{\"browser\": \"Chrome\", \"browserVersion\": \"not a...</td>\n",
              "      <td>9772828344252850532</td>\n",
              "      <td>{\"continent\": \"Americas\", \"subContinent\": \"Sou...</td>\n",
              "      <td>9772828344252850532_1472856802</td>\n",
              "      <td>Not Socially Engaged</td>\n",
              "      <td>{\"visits\": \"1\", \"hits\": \"1\", \"pageviews\": \"1\",...</td>\n",
              "      <td>{\"campaign\": \"Data Share Promo\", \"source\": \"Pa...</td>\n",
              "      <td>1472856802</td>\n",
              "      <td>1</td>\n",
              "      <td>1472856802</td>\n",
              "    </tr>\n",
              "    <tr>\n",
              "      <th>3</th>\n",
              "      <td>Organic Search</td>\n",
              "      <td>20160902</td>\n",
              "      <td>{\"browser\": \"Safari\", \"browserVersion\": \"not a...</td>\n",
              "      <td>1350700416054916432</td>\n",
              "      <td>{\"continent\": \"Americas\", \"subContinent\": \"Nor...</td>\n",
              "      <td>1350700416054916432_1472879649</td>\n",
              "      <td>Not Socially Engaged</td>\n",
              "      <td>{\"visits\": \"1\", \"hits\": \"1\", \"pageviews\": \"1\",...</td>\n",
              "      <td>{\"campaign\": \"(not set)\", \"source\": \"google\", ...</td>\n",
              "      <td>1472879649</td>\n",
              "      <td>2</td>\n",
              "      <td>1472879649</td>\n",
              "    </tr>\n",
              "    <tr>\n",
              "      <th>4</th>\n",
              "      <td>Organic Search</td>\n",
              "      <td>20160902</td>\n",
              "      <td>{\"browser\": \"Safari\", \"browserVersion\": \"not a...</td>\n",
              "      <td>1350700416054916432</td>\n",
              "      <td>{\"continent\": \"Americas\", \"subContinent\": \"Nor...</td>\n",
              "      <td>1350700416054916432_1472829671</td>\n",
              "      <td>Not Socially Engaged</td>\n",
              "      <td>{\"visits\": \"1\", \"hits\": \"5\", \"pageviews\": \"4\",...</td>\n",
              "      <td>{\"campaign\": \"(not set)\", \"source\": \"google\", ...</td>\n",
              "      <td>1472829671</td>\n",
              "      <td>1</td>\n",
              "      <td>1472829671</td>\n",
              "    </tr>\n",
              "  </tbody>\n",
              "</table>\n",
              "</div>\n",
              "      <button class=\"colab-df-convert\" onclick=\"convertToInteractive('df-18a88208-7c29-4d26-9ce4-14a56cf9d63c')\"\n",
              "              title=\"Convert this dataframe to an interactive table.\"\n",
              "              style=\"display:none;\">\n",
              "        \n",
              "  <svg xmlns=\"http://www.w3.org/2000/svg\" height=\"24px\"viewBox=\"0 0 24 24\"\n",
              "       width=\"24px\">\n",
              "    <path d=\"M0 0h24v24H0V0z\" fill=\"none\"/>\n",
              "    <path d=\"M18.56 5.44l.94 2.06.94-2.06 2.06-.94-2.06-.94-.94-2.06-.94 2.06-2.06.94zm-11 1L8.5 8.5l.94-2.06 2.06-.94-2.06-.94L8.5 2.5l-.94 2.06-2.06.94zm10 10l.94 2.06.94-2.06 2.06-.94-2.06-.94-.94-2.06-.94 2.06-2.06.94z\"/><path d=\"M17.41 7.96l-1.37-1.37c-.4-.4-.92-.59-1.43-.59-.52 0-1.04.2-1.43.59L10.3 9.45l-7.72 7.72c-.78.78-.78 2.05 0 2.83L4 21.41c.39.39.9.59 1.41.59.51 0 1.02-.2 1.41-.59l7.78-7.78 2.81-2.81c.8-.78.8-2.07 0-2.86zM5.41 20L4 18.59l7.72-7.72 1.47 1.35L5.41 20z\"/>\n",
              "  </svg>\n",
              "      </button>\n",
              "      \n",
              "  <style>\n",
              "    .colab-df-container {\n",
              "      display:flex;\n",
              "      flex-wrap:wrap;\n",
              "      gap: 12px;\n",
              "    }\n",
              "\n",
              "    .colab-df-convert {\n",
              "      background-color: #E8F0FE;\n",
              "      border: none;\n",
              "      border-radius: 50%;\n",
              "      cursor: pointer;\n",
              "      display: none;\n",
              "      fill: #1967D2;\n",
              "      height: 32px;\n",
              "      padding: 0 0 0 0;\n",
              "      width: 32px;\n",
              "    }\n",
              "\n",
              "    .colab-df-convert:hover {\n",
              "      background-color: #E2EBFA;\n",
              "      box-shadow: 0px 1px 2px rgba(60, 64, 67, 0.3), 0px 1px 3px 1px rgba(60, 64, 67, 0.15);\n",
              "      fill: #174EA6;\n",
              "    }\n",
              "\n",
              "    [theme=dark] .colab-df-convert {\n",
              "      background-color: #3B4455;\n",
              "      fill: #D2E3FC;\n",
              "    }\n",
              "\n",
              "    [theme=dark] .colab-df-convert:hover {\n",
              "      background-color: #434B5C;\n",
              "      box-shadow: 0px 1px 3px 1px rgba(0, 0, 0, 0.15);\n",
              "      filter: drop-shadow(0px 1px 2px rgba(0, 0, 0, 0.3));\n",
              "      fill: #FFFFFF;\n",
              "    }\n",
              "  </style>\n",
              "\n",
              "      <script>\n",
              "        const buttonEl =\n",
              "          document.querySelector('#df-18a88208-7c29-4d26-9ce4-14a56cf9d63c button.colab-df-convert');\n",
              "        buttonEl.style.display =\n",
              "          google.colab.kernel.accessAllowed ? 'block' : 'none';\n",
              "\n",
              "        async function convertToInteractive(key) {\n",
              "          const element = document.querySelector('#df-18a88208-7c29-4d26-9ce4-14a56cf9d63c');\n",
              "          const dataTable =\n",
              "            await google.colab.kernel.invokeFunction('convertToInteractive',\n",
              "                                                     [key], {});\n",
              "          if (!dataTable) return;\n",
              "\n",
              "          const docLinkHtml = 'Like what you see? Visit the ' +\n",
              "            '<a target=\"_blank\" href=https://colab.research.google.com/notebooks/data_table.ipynb>data table notebook</a>'\n",
              "            + ' to learn more about interactive tables.';\n",
              "          element.innerHTML = '';\n",
              "          dataTable['output_type'] = 'display_data';\n",
              "          await google.colab.output.renderOutput(dataTable, element);\n",
              "          const docLink = document.createElement('div');\n",
              "          docLink.innerHTML = docLinkHtml;\n",
              "          element.appendChild(docLink);\n",
              "        }\n",
              "      </script>\n",
              "    </div>\n",
              "  </div>\n",
              "  "
            ],
            "text/plain": [
              "  channelGrouping      date  ... visitNumber  visitStartTime\n",
              "0  Organic Search  20160902  ...           1      1472804607\n",
              "1  Organic Search  20160902  ...           1      1472835928\n",
              "2      Affiliates  20160902  ...           1      1472856802\n",
              "3  Organic Search  20160902  ...           2      1472879649\n",
              "4  Organic Search  20160902  ...           1      1472829671\n",
              "\n",
              "[5 rows x 12 columns]"
            ]
          },
          "metadata": {},
          "execution_count": 16
        }
      ]
    },
    {
      "cell_type": "code",
      "source": [
        "df.dtypes"
      ],
      "metadata": {
        "colab": {
          "base_uri": "https://localhost:8080/"
        },
        "id": "a6lHOVUufVbk",
        "outputId": "d798cbb3-a1e0-40e5-86ec-78d34cfd6eb3"
      },
      "execution_count": 17,
      "outputs": [
        {
          "output_type": "execute_result",
          "data": {
            "text/plain": [
              "channelGrouping         object\n",
              "date                     int64\n",
              "device                  object\n",
              "fullVisitorId           uint64\n",
              "geoNetwork              object\n",
              "sessionId               object\n",
              "socialEngagementType    object\n",
              "totals                  object\n",
              "trafficSource           object\n",
              "visitId                  int64\n",
              "visitNumber              int64\n",
              "visitStartTime           int64\n",
              "dtype: object"
            ]
          },
          "metadata": {},
          "execution_count": 17
        }
      ]
    },
    {
      "cell_type": "markdown",
      "source": [
        "Fazendo casting de date, fullVisitorId e visitId para object"
      ],
      "metadata": {
        "id": "QWHZydrufbzc"
      }
    },
    {
      "cell_type": "code",
      "source": [
        "df = pd.read_csv('https://raw.githubusercontent.com/alura-cursos/digital-marketing-ml/master/train.csv', dtype = {'date':object,'fullVisitorId':object,'visitId':object})\n",
        "df.dtypes"
      ],
      "metadata": {
        "colab": {
          "base_uri": "https://localhost:8080/"
        },
        "id": "RMW-q5Y6fcgD",
        "outputId": "3236c1eb-8ba8-4731-c61b-b529459c32b9"
      },
      "execution_count": 18,
      "outputs": [
        {
          "output_type": "execute_result",
          "data": {
            "text/plain": [
              "channelGrouping         object\n",
              "date                    object\n",
              "device                  object\n",
              "fullVisitorId           object\n",
              "geoNetwork              object\n",
              "sessionId               object\n",
              "socialEngagementType    object\n",
              "totals                  object\n",
              "trafficSource           object\n",
              "visitId                 object\n",
              "visitNumber              int64\n",
              "visitStartTime           int64\n",
              "dtype: object"
            ]
          },
          "metadata": {},
          "execution_count": 18
        }
      ]
    },
    {
      "cell_type": "markdown",
      "source": [
        "Usando json nas colunas device, geoNetwork, trafficSource e totals"
      ],
      "metadata": {
        "id": "Sa5E_EUVfjyO"
      }
    },
    {
      "cell_type": "code",
      "source": [
        "colunas_json = ['device','geoNetwork','trafficSource','totals']\n",
        "\n",
        "for coluna in colunas_json:\n",
        "  df = df.join(pd.DataFrame([json.loads(linha) for linha in df[coluna]]))"
      ],
      "metadata": {
        "id": "pMn6SJLWfkb-"
      },
      "execution_count": 19,
      "outputs": []
    },
    {
      "cell_type": "code",
      "source": [
        "df.drop(colunas_json, axis = 1, inplace = True)"
      ],
      "metadata": {
        "id": "6j4Vr5_gfw28"
      },
      "execution_count": 20,
      "outputs": []
    },
    {
      "cell_type": "code",
      "source": [
        "df.adwordsClickInfo"
      ],
      "metadata": {
        "colab": {
          "base_uri": "https://localhost:8080/"
        },
        "id": "dMjHbRYcf2iH",
        "outputId": "f014352b-c399-4f11-d553-a9da38472939"
      },
      "execution_count": 21,
      "outputs": [
        {
          "output_type": "execute_result",
          "data": {
            "text/plain": [
              "0        {'criteriaParameters': 'not available in demo ...\n",
              "1        {'criteriaParameters': 'not available in demo ...\n",
              "2        {'criteriaParameters': 'not available in demo ...\n",
              "3        {'criteriaParameters': 'not available in demo ...\n",
              "4        {'criteriaParameters': 'not available in demo ...\n",
              "                               ...                        \n",
              "12278    {'criteriaParameters': 'not available in demo ...\n",
              "12279    {'criteriaParameters': 'not available in demo ...\n",
              "12280    {'criteriaParameters': 'not available in demo ...\n",
              "12281    {'criteriaParameters': 'not available in demo ...\n",
              "12282    {'criteriaParameters': 'not available in demo ...\n",
              "Name: adwordsClickInfo, Length: 12283, dtype: object"
            ]
          },
          "metadata": {},
          "execution_count": 21
        }
      ]
    },
    {
      "cell_type": "markdown",
      "source": [
        "Excluindo a coluna adwordsClickInfo e verificando a quantidade de valors únicos nas outras colunas"
      ],
      "metadata": {
        "id": "RfqdT63Lf_58"
      }
    },
    {
      "cell_type": "code",
      "source": [
        "df.drop(columns ='adwordsClickInfo', inplace = True )"
      ],
      "metadata": {
        "id": "ddrUGvVdgAbs"
      },
      "execution_count": 22,
      "outputs": []
    },
    {
      "cell_type": "code",
      "source": [
        "columns_drop = [coluna for coluna in df.columns if len(df[coluna].unique()) == 1]"
      ],
      "metadata": {
        "id": "PWnWSeVNgQgU"
      },
      "execution_count": 23,
      "outputs": []
    },
    {
      "cell_type": "code",
      "source": [
        "columns_drop"
      ],
      "metadata": {
        "colab": {
          "base_uri": "https://localhost:8080/"
        },
        "id": "82WepgXEgsb-",
        "outputId": "1d300603-4a85-4874-d4bc-52520c35d11f"
      },
      "execution_count": 24,
      "outputs": [
        {
          "output_type": "execute_result",
          "data": {
            "text/plain": [
              "['socialEngagementType',\n",
              " 'browserVersion',\n",
              " 'browserSize',\n",
              " 'operatingSystemVersion',\n",
              " 'mobileDeviceBranding',\n",
              " 'mobileDeviceModel',\n",
              " 'mobileInputSelector',\n",
              " 'mobileDeviceInfo',\n",
              " 'mobileDeviceMarketingName',\n",
              " 'flashVersion',\n",
              " 'language',\n",
              " 'screenColors',\n",
              " 'screenResolution',\n",
              " 'cityId',\n",
              " 'latitude',\n",
              " 'longitude',\n",
              " 'networkLocation',\n",
              " 'visits']"
            ]
          },
          "metadata": {},
          "execution_count": 24
        }
      ]
    },
    {
      "cell_type": "markdown",
      "source": [
        "Excluindo as colunas com apenas um valor"
      ],
      "metadata": {
        "id": "SnJ52temhZMu"
      }
    },
    {
      "cell_type": "code",
      "source": [
        "df.drop(columns = columns_drop, inplace = True)"
      ],
      "metadata": {
        "id": "hk-pUbZEhZsA"
      },
      "execution_count": 25,
      "outputs": []
    },
    {
      "cell_type": "markdown",
      "source": [
        "Convertendo as variáveis quantitativas para númeric"
      ],
      "metadata": {
        "id": "wP_U3g_1ho8A"
      }
    },
    {
      "cell_type": "code",
      "source": [
        "vars_quants = ['bounces','hits','newVisits','pageviews','transactionRevenue']\n",
        "\n",
        "for coluna in vars_quants:\n",
        "  df[coluna] = pd.to_numeric(df[coluna])"
      ],
      "metadata": {
        "id": "AIKuxJMahpSV"
      },
      "execution_count": 26,
      "outputs": []
    },
    {
      "cell_type": "markdown",
      "source": [
        "Verificando a variável resposta"
      ],
      "metadata": {
        "id": "SnWTRAI9h1As"
      }
    },
    {
      "cell_type": "code",
      "source": [
        "print('total de valores da transactionRevenue {}'.format(df.transactionRevenue.shape[0]))\n",
        "print('valores Nan da transactionRevenue: {}'.format((df.transactionRevenue.isna()).sum()))"
      ],
      "metadata": {
        "colab": {
          "base_uri": "https://localhost:8080/"
        },
        "id": "-FCofX4_h4ld",
        "outputId": "53377069-9d5e-4de2-a77d-1b98c2e58223"
      },
      "execution_count": 27,
      "outputs": [
        {
          "output_type": "stream",
          "name": "stdout",
          "text": [
            "total de valores da transactionRevenue 12283\n",
            "valores Nan da transactionRevenue: 12119\n"
          ]
        }
      ]
    },
    {
      "cell_type": "markdown",
      "source": [
        "Podemos considerar os valores Nan como usuários que não gastaram nada"
      ],
      "metadata": {
        "id": "r5kSDNHDiEt8"
      }
    },
    {
      "cell_type": "code",
      "source": [
        "df.transactionRevenue.fillna(0, inplace = True)\n",
        "df.transactionRevenue =df.transactionRevenue / 1000000"
      ],
      "metadata": {
        "id": "jt52V2HJiFP3"
      },
      "execution_count": 28,
      "outputs": []
    },
    {
      "cell_type": "code",
      "source": [
        "df_quant = df.groupby('fullVisitorId', as_index = False)[vars_quants].sum()\n",
        "df_quant.shape"
      ],
      "metadata": {
        "colab": {
          "base_uri": "https://localhost:8080/"
        },
        "id": "TfFMUSrTiPet",
        "outputId": "280614ed-7bfe-4aec-b85e-5b5b4c721f51"
      },
      "execution_count": 29,
      "outputs": [
        {
          "output_type": "execute_result",
          "data": {
            "text/plain": [
              "(9997, 6)"
            ]
          },
          "metadata": {},
          "execution_count": 29
        }
      ]
    },
    {
      "cell_type": "markdown",
      "source": [
        "**Treinando o modelo de regressão linear**"
      ],
      "metadata": {
        "id": "Peh-j8INiSCc"
      }
    },
    {
      "cell_type": "code",
      "source": [
        "y = df_quant.transactionRevenue.copy()\n",
        "X = df_quant.drop(columns = 'transactionRevenue')\n",
        "X_train, X_test,y_train,y_test = train_test_split(X,y,test_size = 0.3, random_state = 50)"
      ],
      "metadata": {
        "id": "gGlOG8KOiWR1"
      },
      "execution_count": 30,
      "outputs": []
    },
    {
      "cell_type": "code",
      "source": [
        "reg = LinearRegression()\n",
        "reg.fit(X_train,y_train)\n",
        "predict = reg.predict(X_test)"
      ],
      "metadata": {
        "id": "gYRQSZw6il01"
      },
      "execution_count": 31,
      "outputs": []
    },
    {
      "cell_type": "code",
      "source": [
        "sns.boxplot(predict)"
      ],
      "metadata": {
        "colab": {
          "base_uri": "https://localhost:8080/",
          "height": 337
        },
        "id": "tXhUolhSiphc",
        "outputId": "a96fc5e3-041b-4d95-8b2f-580df7405b0b"
      },
      "execution_count": 32,
      "outputs": [
        {
          "output_type": "stream",
          "name": "stderr",
          "text": [
            "/usr/local/lib/python3.7/dist-packages/seaborn/_decorators.py:43: FutureWarning: Pass the following variable as a keyword arg: x. From version 0.12, the only valid positional argument will be `data`, and passing other arguments without an explicit keyword will result in an error or misinterpretation.\n",
            "  FutureWarning\n"
          ]
        },
        {
          "output_type": "execute_result",
          "data": {
            "text/plain": [
              "<matplotlib.axes._subplots.AxesSubplot at 0x7fe49d8edcd0>"
            ]
          },
          "metadata": {},
          "execution_count": 32
        },
        {
          "output_type": "display_data",
          "data": {
            "image/png": "[encoded data removed]",
            "text/plain": [
              "<Figure size 432x288 with 1 Axes>"
            ]
          },
          "metadata": {
            "needs_background": "light"
          }
        }
      ]
    },
    {
      "cell_type": "code",
      "source": [
        "sns.boxplot(y_test)"
      ],
      "metadata": {
        "colab": {
          "base_uri": "https://localhost:8080/",
          "height": 351
        },
        "id": "zBCqZZQXivtL",
        "outputId": "9ae14b6e-dbd8-4ed4-8ebf-477b08b4598a"
      },
      "execution_count": 33,
      "outputs": [
        {
          "output_type": "stream",
          "name": "stderr",
          "text": [
            "/usr/local/lib/python3.7/dist-packages/seaborn/_decorators.py:43: FutureWarning: Pass the following variable as a keyword arg: x. From version 0.12, the only valid positional argument will be `data`, and passing other arguments without an explicit keyword will result in an error or misinterpretation.\n",
            "  FutureWarning\n"
          ]
        },
        {
          "output_type": "execute_result",
          "data": {
            "text/plain": [
              "<matplotlib.axes._subplots.AxesSubplot at 0x7fe49d878a90>"
            ]
          },
          "metadata": {},
          "execution_count": 33
        },
        {
          "output_type": "display_data",
          "data": {
            "image/png": "[encoded data removed]",
            "text/plain": [
              "<Figure size 432x288 with 1 Axes>"
            ]
          },
          "metadata": {
            "needs_background": "light"
          }
        }
      ]
    },
    {
      "cell_type": "code",
      "source": [
        "np.sqrt(mean_squared_error(y_test,predict))"
      ],
      "metadata": {
        "colab": {
          "base_uri": "https://localhost:8080/"
        },
        "id": "AmwKWjERiyd8",
        "outputId": "a2f9d8ac-f54f-4f1f-967c-2a2033adab13"
      },
      "execution_count": 34,
      "outputs": [
        {
          "output_type": "execute_result",
          "data": {
            "text/plain": [
              "30.22953483309044"
            ]
          },
          "metadata": {},
          "execution_count": 34
        }
      ]
    },
    {
      "cell_type": "code",
      "source": [
        "np.std(df_quant.transactionRevenue)"
      ],
      "metadata": {
        "colab": {
          "base_uri": "https://localhost:8080/"
        },
        "id": "wNVxdu6ei7YN",
        "outputId": "8f0e13ab-11f2-44f2-ccca-92046244ddcb"
      },
      "execution_count": 35,
      "outputs": [
        {
          "output_type": "execute_result",
          "data": {
            "text/plain": [
              "25.129905708017944"
            ]
          },
          "metadata": {},
          "execution_count": 35
        }
      ]
    },
    {
      "cell_type": "markdown",
      "source": [
        "O modelo está errando mais que o desvio natural da base de dados"
      ],
      "metadata": {
        "id": "UMlRdJNhi90k"
      }
    },
    {
      "cell_type": "markdown",
      "source": [
        "**Explorando as métricas de primeira e última visita ao site para melhorar o modelo**"
      ],
      "metadata": {
        "id": "Ubf2HmqMjSPP"
      }
    },
    {
      "cell_type": "code",
      "source": [
        "ultimas_visitas = df.groupby('fullVisitorId', as_index = False)['visitNumber'].max()\n",
        "ultimas_visitas"
      ],
      "metadata": {
        "colab": {
          "base_uri": "https://localhost:8080/",
          "height": 424
        },
        "id": "_9O7tN-Xi-La",
        "outputId": "3b1448c7-d740-4a96-caed-0e7aad5118ec"
      },
      "execution_count": 36,
      "outputs": [
        {
          "output_type": "execute_result",
          "data": {
            "text/html": [
              "\n",
              "  <div id=\"df-70fd86ef-9745-49d3-9bb0-23198d0fdfeb\">\n",
              "    <div class=\"colab-df-container\">\n",
              "      <div>\n",
              "<style scoped>\n",
              "    .dataframe tbody tr th:only-of-type {\n",
              "        vertical-align: middle;\n",
              "    }\n",
              "\n",
              "    .dataframe tbody tr th {\n",
              "        vertical-align: top;\n",
              "    }\n",
              "\n",
              "    .dataframe thead th {\n",
              "        text-align: right;\n",
              "    }\n",
              "</style>\n",
              "<table border=\"1\" class=\"dataframe\">\n",
              "  <thead>\n",
              "    <tr style=\"text-align: right;\">\n",
              "      <th></th>\n",
              "      <th>fullVisitorId</th>\n",
              "      <th>visitNumber</th>\n",
              "    </tr>\n",
              "  </thead>\n",
              "  <tbody>\n",
              "    <tr>\n",
              "      <th>0</th>\n",
              "      <td>0002365800130207040</td>\n",
              "      <td>1</td>\n",
              "    </tr>\n",
              "    <tr>\n",
              "      <th>1</th>\n",
              "      <td>0010286039787739137</td>\n",
              "      <td>1</td>\n",
              "    </tr>\n",
              "    <tr>\n",
              "      <th>2</th>\n",
              "      <td>0011056874471185769</td>\n",
              "      <td>1</td>\n",
              "    </tr>\n",
              "    <tr>\n",
              "      <th>3</th>\n",
              "      <td>0014443856125569702</td>\n",
              "      <td>1</td>\n",
              "    </tr>\n",
              "    <tr>\n",
              "      <th>4</th>\n",
              "      <td>0017260116665815114</td>\n",
              "      <td>6</td>\n",
              "    </tr>\n",
              "    <tr>\n",
              "      <th>...</th>\n",
              "      <td>...</td>\n",
              "      <td>...</td>\n",
              "    </tr>\n",
              "    <tr>\n",
              "      <th>9992</th>\n",
              "      <td>9996691020299725061</td>\n",
              "      <td>3</td>\n",
              "    </tr>\n",
              "    <tr>\n",
              "      <th>9993</th>\n",
              "      <td>9996793353803109760</td>\n",
              "      <td>1</td>\n",
              "    </tr>\n",
              "    <tr>\n",
              "      <th>9994</th>\n",
              "      <td>9997125062030599880</td>\n",
              "      <td>1</td>\n",
              "    </tr>\n",
              "    <tr>\n",
              "      <th>9995</th>\n",
              "      <td>9997464307347866920</td>\n",
              "      <td>1</td>\n",
              "    </tr>\n",
              "    <tr>\n",
              "      <th>9996</th>\n",
              "      <td>9999355589118867468</td>\n",
              "      <td>2</td>\n",
              "    </tr>\n",
              "  </tbody>\n",
              "</table>\n",
              "<p>9997 rows × 2 columns</p>\n",
              "</div>\n",
              "      <button class=\"colab-df-convert\" onclick=\"convertToInteractive('df-70fd86ef-9745-49d3-9bb0-23198d0fdfeb')\"\n",
              "              title=\"Convert this dataframe to an interactive table.\"\n",
              "              style=\"display:none;\">\n",
              "        \n",
              "  <svg xmlns=\"http://www.w3.org/2000/svg\" height=\"24px\"viewBox=\"0 0 24 24\"\n",
              "       width=\"24px\">\n",
              "    <path d=\"M0 0h24v24H0V0z\" fill=\"none\"/>\n",
              "    <path d=\"M18.56 5.44l.94 2.06.94-2.06 2.06-.94-2.06-.94-.94-2.06-.94 2.06-2.06.94zm-11 1L8.5 8.5l.94-2.06 2.06-.94-2.06-.94L8.5 2.5l-.94 2.06-2.06.94zm10 10l.94 2.06.94-2.06 2.06-.94-2.06-.94-.94-2.06-.94 2.06-2.06.94z\"/><path d=\"M17.41 7.96l-1.37-1.37c-.4-.4-.92-.59-1.43-.59-.52 0-1.04.2-1.43.59L10.3 9.45l-7.72 7.72c-.78.78-.78 2.05 0 2.83L4 21.41c.39.39.9.59 1.41.59.51 0 1.02-.2 1.41-.59l7.78-7.78 2.81-2.81c.8-.78.8-2.07 0-2.86zM5.41 20L4 18.59l7.72-7.72 1.47 1.35L5.41 20z\"/>\n",
              "  </svg>\n",
              "      </button>\n",
              "      \n",
              "  <style>\n",
              "    .colab-df-container {\n",
              "      display:flex;\n",
              "      flex-wrap:wrap;\n",
              "      gap: 12px;\n",
              "    }\n",
              "\n",
              "    .colab-df-convert {\n",
              "      background-color: #E8F0FE;\n",
              "      border: none;\n",
              "      border-radius: 50%;\n",
              "      cursor: pointer;\n",
              "      display: none;\n",
              "      fill: #1967D2;\n",
              "      height: 32px;\n",
              "      padding: 0 0 0 0;\n",
              "      width: 32px;\n",
              "    }\n",
              "\n",
              "    .colab-df-convert:hover {\n",
              "      background-color: #E2EBFA;\n",
              "      box-shadow: 0px 1px 2px rgba(60, 64, 67, 0.3), 0px 1px 3px 1px rgba(60, 64, 67, 0.15);\n",
              "      fill: #174EA6;\n",
              "    }\n",
              "\n",
              "    [theme=dark] .colab-df-convert {\n",
              "      background-color: #3B4455;\n",
              "      fill: #D2E3FC;\n",
              "    }\n",
              "\n",
              "    [theme=dark] .colab-df-convert:hover {\n",
              "      background-color: #434B5C;\n",
              "      box-shadow: 0px 1px 3px 1px rgba(0, 0, 0, 0.15);\n",
              "      filter: drop-shadow(0px 1px 2px rgba(0, 0, 0, 0.3));\n",
              "      fill: #FFFFFF;\n",
              "    }\n",
              "  </style>\n",
              "\n",
              "      <script>\n",
              "        const buttonEl =\n",
              "          document.querySelector('#df-70fd86ef-9745-49d3-9bb0-23198d0fdfeb button.colab-df-convert');\n",
              "        buttonEl.style.display =\n",
              "          google.colab.kernel.accessAllowed ? 'block' : 'none';\n",
              "\n",
              "        async function convertToInteractive(key) {\n",
              "          const element = document.querySelector('#df-70fd86ef-9745-49d3-9bb0-23198d0fdfeb');\n",
              "          const dataTable =\n",
              "            await google.colab.kernel.invokeFunction('convertToInteractive',\n",
              "                                                     [key], {});\n",
              "          if (!dataTable) return;\n",
              "\n",
              "          const docLinkHtml = 'Like what you see? Visit the ' +\n",
              "            '<a target=\"_blank\" href=https://colab.research.google.com/notebooks/data_table.ipynb>data table notebook</a>'\n",
              "            + ' to learn more about interactive tables.';\n",
              "          element.innerHTML = '';\n",
              "          dataTable['output_type'] = 'display_data';\n",
              "          await google.colab.output.renderOutput(dataTable, element);\n",
              "          const docLink = document.createElement('div');\n",
              "          docLink.innerHTML = docLinkHtml;\n",
              "          element.appendChild(docLink);\n",
              "        }\n",
              "      </script>\n",
              "    </div>\n",
              "  </div>\n",
              "  "
            ],
            "text/plain": [
              "            fullVisitorId  visitNumber\n",
              "0     0002365800130207040            1\n",
              "1     0010286039787739137            1\n",
              "2     0011056874471185769            1\n",
              "3     0014443856125569702            1\n",
              "4     0017260116665815114            6\n",
              "...                   ...          ...\n",
              "9992  9996691020299725061            3\n",
              "9993  9996793353803109760            1\n",
              "9994  9997125062030599880            1\n",
              "9995  9997464307347866920            1\n",
              "9996  9999355589118867468            2\n",
              "\n",
              "[9997 rows x 2 columns]"
            ]
          },
          "metadata": {},
          "execution_count": 36
        }
      ]
    },
    {
      "cell_type": "code",
      "source": [
        "usuarios_visitas_unicas = df.drop_duplicates(subset = ['fullVisitorId','visitNumber'])"
      ],
      "metadata": {
        "id": "lxm7YuzFjmPM"
      },
      "execution_count": 37,
      "outputs": []
    },
    {
      "cell_type": "code",
      "source": [
        "visitas = pd.merge(ultimas_visitas,usuarios_visitas_unicas, \n",
        "                   left_on = ['fullVisitorId','visitNumber'], \n",
        "                   right_on =['fullVisitorId','visitNumber'],\n",
        "                   how = 'left')\n",
        "visitas.shape"
      ],
      "metadata": {
        "colab": {
          "base_uri": "https://localhost:8080/"
        },
        "id": "dlgGajsekDM9",
        "outputId": "dd4422da-8fb9-452d-d9b9-456e3cf923da"
      },
      "execution_count": 41,
      "outputs": [
        {
          "output_type": "execute_result",
          "data": {
            "text/plain": [
              "(9997, 31)"
            ]
          },
          "metadata": {},
          "execution_count": 41
        }
      ]
    },
    {
      "cell_type": "code",
      "source": [
        "primeiras_visitas = df.groupby('fullVisitorId', as_index = False)['visitNumber'].min()\n",
        "primeiras_visitas.head()"
      ],
      "metadata": {
        "colab": {
          "base_uri": "https://localhost:8080/",
          "height": 206
        },
        "id": "vOVHj9eykHKk",
        "outputId": "3b233e7d-53bc-4cd1-a1e9-e9659ef3bafc"
      },
      "execution_count": 42,
      "outputs": [
        {
          "output_type": "execute_result",
          "data": {
            "text/html": [
              "\n",
              "  <div id=\"df-e29c7534-6980-4d9f-bcc6-b3dd3d6cbfea\">\n",
              "    <div class=\"colab-df-container\">\n",
              "      <div>\n",
              "<style scoped>\n",
              "    .dataframe tbody tr th:only-of-type {\n",
              "        vertical-align: middle;\n",
              "    }\n",
              "\n",
              "    .dataframe tbody tr th {\n",
              "        vertical-align: top;\n",
              "    }\n",
              "\n",
              "    .dataframe thead th {\n",
              "        text-align: right;\n",
              "    }\n",
              "</style>\n",
              "<table border=\"1\" class=\"dataframe\">\n",
              "  <thead>\n",
              "    <tr style=\"text-align: right;\">\n",
              "      <th></th>\n",
              "      <th>fullVisitorId</th>\n",
              "      <th>visitNumber</th>\n",
              "    </tr>\n",
              "  </thead>\n",
              "  <tbody>\n",
              "    <tr>\n",
              "      <th>0</th>\n",
              "      <td>0002365800130207040</td>\n",
              "      <td>1</td>\n",
              "    </tr>\n",
              "    <tr>\n",
              "      <th>1</th>\n",
              "      <td>0010286039787739137</td>\n",
              "      <td>1</td>\n",
              "    </tr>\n",
              "    <tr>\n",
              "      <th>2</th>\n",
              "      <td>0011056874471185769</td>\n",
              "      <td>1</td>\n",
              "    </tr>\n",
              "    <tr>\n",
              "      <th>3</th>\n",
              "      <td>0014443856125569702</td>\n",
              "      <td>1</td>\n",
              "    </tr>\n",
              "    <tr>\n",
              "      <th>4</th>\n",
              "      <td>0017260116665815114</td>\n",
              "      <td>6</td>\n",
              "    </tr>\n",
              "  </tbody>\n",
              "</table>\n",
              "</div>\n",
              "      <button class=\"colab-df-convert\" onclick=\"convertToInteractive('df-e29c7534-6980-4d9f-bcc6-b3dd3d6cbfea')\"\n",
              "              title=\"Convert this dataframe to an interactive table.\"\n",
              "              style=\"display:none;\">\n",
              "        \n",
              "  <svg xmlns=\"http://www.w3.org/2000/svg\" height=\"24px\"viewBox=\"0 0 24 24\"\n",
              "       width=\"24px\">\n",
              "    <path d=\"M0 0h24v24H0V0z\" fill=\"none\"/>\n",
              "    <path d=\"M18.56 5.44l.94 2.06.94-2.06 2.06-.94-2.06-.94-.94-2.06-.94 2.06-2.06.94zm-11 1L8.5 8.5l.94-2.06 2.06-.94-2.06-.94L8.5 2.5l-.94 2.06-2.06.94zm10 10l.94 2.06.94-2.06 2.06-.94-2.06-.94-.94-2.06-.94 2.06-2.06.94z\"/><path d=\"M17.41 7.96l-1.37-1.37c-.4-.4-.92-.59-1.43-.59-.52 0-1.04.2-1.43.59L10.3 9.45l-7.72 7.72c-.78.78-.78 2.05 0 2.83L4 21.41c.39.39.9.59 1.41.59.51 0 1.02-.2 1.41-.59l7.78-7.78 2.81-2.81c.8-.78.8-2.07 0-2.86zM5.41 20L4 18.59l7.72-7.72 1.47 1.35L5.41 20z\"/>\n",
              "  </svg>\n",
              "      </button>\n",
              "      \n",
              "  <style>\n",
              "    .colab-df-container {\n",
              "      display:flex;\n",
              "      flex-wrap:wrap;\n",
              "      gap: 12px;\n",
              "    }\n",
              "\n",
              "    .colab-df-convert {\n",
              "      background-color: #E8F0FE;\n",
              "      border: none;\n",
              "      border-radius: 50%;\n",
              "      cursor: pointer;\n",
              "      display: none;\n",
              "      fill: #1967D2;\n",
              "      height: 32px;\n",
              "      padding: 0 0 0 0;\n",
              "      width: 32px;\n",
              "    }\n",
              "\n",
              "    .colab-df-convert:hover {\n",
              "      background-color: #E2EBFA;\n",
              "      box-shadow: 0px 1px 2px rgba(60, 64, 67, 0.3), 0px 1px 3px 1px rgba(60, 64, 67, 0.15);\n",
              "      fill: #174EA6;\n",
              "    }\n",
              "\n",
              "    [theme=dark] .colab-df-convert {\n",
              "      background-color: #3B4455;\n",
              "      fill: #D2E3FC;\n",
              "    }\n",
              "\n",
              "    [theme=dark] .colab-df-convert:hover {\n",
              "      background-color: #434B5C;\n",
              "      box-shadow: 0px 1px 3px 1px rgba(0, 0, 0, 0.15);\n",
              "      filter: drop-shadow(0px 1px 2px rgba(0, 0, 0, 0.3));\n",
              "      fill: #FFFFFF;\n",
              "    }\n",
              "  </style>\n",
              "\n",
              "      <script>\n",
              "        const buttonEl =\n",
              "          document.querySelector('#df-e29c7534-6980-4d9f-bcc6-b3dd3d6cbfea button.colab-df-convert');\n",
              "        buttonEl.style.display =\n",
              "          google.colab.kernel.accessAllowed ? 'block' : 'none';\n",
              "\n",
              "        async function convertToInteractive(key) {\n",
              "          const element = document.querySelector('#df-e29c7534-6980-4d9f-bcc6-b3dd3d6cbfea');\n",
              "          const dataTable =\n",
              "            await google.colab.kernel.invokeFunction('convertToInteractive',\n",
              "                                                     [key], {});\n",
              "          if (!dataTable) return;\n",
              "\n",
              "          const docLinkHtml = 'Like what you see? Visit the ' +\n",
              "            '<a target=\"_blank\" href=https://colab.research.google.com/notebooks/data_table.ipynb>data table notebook</a>'\n",
              "            + ' to learn more about interactive tables.';\n",
              "          element.innerHTML = '';\n",
              "          dataTable['output_type'] = 'display_data';\n",
              "          await google.colab.output.renderOutput(dataTable, element);\n",
              "          const docLink = document.createElement('div');\n",
              "          docLink.innerHTML = docLinkHtml;\n",
              "          element.appendChild(docLink);\n",
              "        }\n",
              "      </script>\n",
              "    </div>\n",
              "  </div>\n",
              "  "
            ],
            "text/plain": [
              "         fullVisitorId  visitNumber\n",
              "0  0002365800130207040            1\n",
              "1  0010286039787739137            1\n",
              "2  0011056874471185769            1\n",
              "3  0014443856125569702            1\n",
              "4  0017260116665815114            6"
            ]
          },
          "metadata": {},
          "execution_count": 42
        }
      ]
    },
    {
      "cell_type": "code",
      "source": [
        "primeiras_visitas.set_index('fullVisitorId', inplace = True)"
      ],
      "metadata": {
        "id": "OltbRlPKkRYF"
      },
      "execution_count": 43,
      "outputs": []
    },
    {
      "cell_type": "code",
      "source": [
        "visitas = visitas.join(primeiras_visitas, how = 'left', on = 'fullVisitorId', rsuffix='_primeira')"
      ],
      "metadata": {
        "id": "9LgdpuTYkUWt"
      },
      "execution_count": 44,
      "outputs": []
    },
    {
      "cell_type": "code",
      "source": [
        "visitas = pd.merge(visitas,usuarios_visitas_unicas, left_on = ['fullVisitorId','visitNumber_primeira'],\n",
        "                   right_on = ['fullVisitorId','visitNumber'], how = 'left', suffixes = ['_ultima','_primeira'])"
      ],
      "metadata": {
        "id": "VVs9Jy3wkh6e"
      },
      "execution_count": 45,
      "outputs": []
    },
    {
      "cell_type": "code",
      "source": [
        "visitas.head()"
      ],
      "metadata": {
        "colab": {
          "base_uri": "https://localhost:8080/",
          "height": 392
        },
        "id": "zWjNwha8knCO",
        "outputId": "05ea145a-d150-4061-de6d-79d84970b4e0"
      },
      "execution_count": 46,
      "outputs": [
        {
          "output_type": "execute_result",
          "data": {
            "text/html": [
              "\n",
              "  <div id=\"df-f17461d3-0038-42bd-bd66-c77318fc5639\">\n",
              "    <div class=\"colab-df-container\">\n",
              "      <div>\n",
              "<style scoped>\n",
              "    .dataframe tbody tr th:only-of-type {\n",
              "        vertical-align: middle;\n",
              "    }\n",
              "\n",
              "    .dataframe tbody tr th {\n",
              "        vertical-align: top;\n",
              "    }\n",
              "\n",
              "    .dataframe thead th {\n",
              "        text-align: right;\n",
              "    }\n",
              "</style>\n",
              "<table border=\"1\" class=\"dataframe\">\n",
              "  <thead>\n",
              "    <tr style=\"text-align: right;\">\n",
              "      <th></th>\n",
              "      <th>fullVisitorId</th>\n",
              "      <th>visitNumber_ultima</th>\n",
              "      <th>channelGrouping_ultima</th>\n",
              "      <th>date_ultima</th>\n",
              "      <th>sessionId_ultima</th>\n",
              "      <th>visitId_ultima</th>\n",
              "      <th>visitStartTime_ultima</th>\n",
              "      <th>browser_ultima</th>\n",
              "      <th>operatingSystem_ultima</th>\n",
              "      <th>isMobile_ultima</th>\n",
              "      <th>deviceCategory_ultima</th>\n",
              "      <th>continent_ultima</th>\n",
              "      <th>subContinent_ultima</th>\n",
              "      <th>country_ultima</th>\n",
              "      <th>region_ultima</th>\n",
              "      <th>metro_ultima</th>\n",
              "      <th>city_ultima</th>\n",
              "      <th>networkDomain_ultima</th>\n",
              "      <th>campaign_ultima</th>\n",
              "      <th>source_ultima</th>\n",
              "      <th>medium_ultima</th>\n",
              "      <th>keyword_ultima</th>\n",
              "      <th>isTrueDirect_ultima</th>\n",
              "      <th>referralPath_ultima</th>\n",
              "      <th>adContent_ultima</th>\n",
              "      <th>campaignCode_ultima</th>\n",
              "      <th>hits_ultima</th>\n",
              "      <th>pageviews_ultima</th>\n",
              "      <th>bounces_ultima</th>\n",
              "      <th>newVisits_ultima</th>\n",
              "      <th>transactionRevenue_ultima</th>\n",
              "      <th>visitNumber_primeira</th>\n",
              "      <th>channelGrouping_primeira</th>\n",
              "      <th>date_primeira</th>\n",
              "      <th>sessionId_primeira</th>\n",
              "      <th>visitId_primeira</th>\n",
              "      <th>visitNumber_primeira</th>\n",
              "      <th>visitStartTime_primeira</th>\n",
              "      <th>browser_primeira</th>\n",
              "      <th>operatingSystem_primeira</th>\n",
              "      <th>isMobile_primeira</th>\n",
              "      <th>deviceCategory_primeira</th>\n",
              "      <th>continent_primeira</th>\n",
              "      <th>subContinent_primeira</th>\n",
              "      <th>country_primeira</th>\n",
              "      <th>region_primeira</th>\n",
              "      <th>metro_primeira</th>\n",
              "      <th>city_primeira</th>\n",
              "      <th>networkDomain_primeira</th>\n",
              "      <th>campaign_primeira</th>\n",
              "      <th>source_primeira</th>\n",
              "      <th>medium_primeira</th>\n",
              "      <th>keyword_primeira</th>\n",
              "      <th>isTrueDirect_primeira</th>\n",
              "      <th>referralPath_primeira</th>\n",
              "      <th>adContent_primeira</th>\n",
              "      <th>campaignCode_primeira</th>\n",
              "      <th>hits_primeira</th>\n",
              "      <th>pageviews_primeira</th>\n",
              "      <th>bounces_primeira</th>\n",
              "      <th>newVisits_primeira</th>\n",
              "      <th>transactionRevenue_primeira</th>\n",
              "    </tr>\n",
              "  </thead>\n",
              "  <tbody>\n",
              "    <tr>\n",
              "      <th>0</th>\n",
              "      <td>0002365800130207040</td>\n",
              "      <td>1</td>\n",
              "      <td>Social</td>\n",
              "      <td>20160904</td>\n",
              "      <td>0002365800130207040_1472974804</td>\n",
              "      <td>1472974804</td>\n",
              "      <td>1472974804</td>\n",
              "      <td>Edge</td>\n",
              "      <td>Windows</td>\n",
              "      <td>False</td>\n",
              "      <td>desktop</td>\n",
              "      <td>Europe</td>\n",
              "      <td>Eastern Europe</td>\n",
              "      <td>Ukraine</td>\n",
              "      <td>not available in demo dataset</td>\n",
              "      <td>not available in demo dataset</td>\n",
              "      <td>not available in demo dataset</td>\n",
              "      <td>wildpark.net</td>\n",
              "      <td>(not set)</td>\n",
              "      <td>youtube.com</td>\n",
              "      <td>referral</td>\n",
              "      <td>NaN</td>\n",
              "      <td>NaN</td>\n",
              "      <td>/yt/about/ru/</td>\n",
              "      <td>NaN</td>\n",
              "      <td>NaN</td>\n",
              "      <td>1</td>\n",
              "      <td>1</td>\n",
              "      <td>1.0</td>\n",
              "      <td>1.0</td>\n",
              "      <td>0.0</td>\n",
              "      <td>1</td>\n",
              "      <td>Social</td>\n",
              "      <td>20160904</td>\n",
              "      <td>0002365800130207040_1472974804</td>\n",
              "      <td>1472974804</td>\n",
              "      <td>1</td>\n",
              "      <td>1472974804</td>\n",
              "      <td>Edge</td>\n",
              "      <td>Windows</td>\n",
              "      <td>False</td>\n",
              "      <td>desktop</td>\n",
              "      <td>Europe</td>\n",
              "      <td>Eastern Europe</td>\n",
              "      <td>Ukraine</td>\n",
              "      <td>not available in demo dataset</td>\n",
              "      <td>not available in demo dataset</td>\n",
              "      <td>not available in demo dataset</td>\n",
              "      <td>wildpark.net</td>\n",
              "      <td>(not set)</td>\n",
              "      <td>youtube.com</td>\n",
              "      <td>referral</td>\n",
              "      <td>NaN</td>\n",
              "      <td>NaN</td>\n",
              "      <td>/yt/about/ru/</td>\n",
              "      <td>NaN</td>\n",
              "      <td>NaN</td>\n",
              "      <td>1</td>\n",
              "      <td>1</td>\n",
              "      <td>1.0</td>\n",
              "      <td>1.0</td>\n",
              "      <td>0.0</td>\n",
              "    </tr>\n",
              "    <tr>\n",
              "      <th>1</th>\n",
              "      <td>0010286039787739137</td>\n",
              "      <td>1</td>\n",
              "      <td>Organic Search</td>\n",
              "      <td>20160928</td>\n",
              "      <td>0010286039787739137_1475084026</td>\n",
              "      <td>1475084026</td>\n",
              "      <td>1475084026</td>\n",
              "      <td>Chrome</td>\n",
              "      <td>Chrome OS</td>\n",
              "      <td>False</td>\n",
              "      <td>desktop</td>\n",
              "      <td>Americas</td>\n",
              "      <td>Northern America</td>\n",
              "      <td>United States</td>\n",
              "      <td>Missouri</td>\n",
              "      <td>Kansas City MO</td>\n",
              "      <td>Kansas City</td>\n",
              "      <td>(not set)</td>\n",
              "      <td>(not set)</td>\n",
              "      <td>google</td>\n",
              "      <td>organic</td>\n",
              "      <td>(not provided)</td>\n",
              "      <td>NaN</td>\n",
              "      <td>NaN</td>\n",
              "      <td>NaN</td>\n",
              "      <td>NaN</td>\n",
              "      <td>4</td>\n",
              "      <td>3</td>\n",
              "      <td>NaN</td>\n",
              "      <td>1.0</td>\n",
              "      <td>0.0</td>\n",
              "      <td>1</td>\n",
              "      <td>Organic Search</td>\n",
              "      <td>20160928</td>\n",
              "      <td>0010286039787739137_1475084026</td>\n",
              "      <td>1475084026</td>\n",
              "      <td>1</td>\n",
              "      <td>1475084026</td>\n",
              "      <td>Chrome</td>\n",
              "      <td>Chrome OS</td>\n",
              "      <td>False</td>\n",
              "      <td>desktop</td>\n",
              "      <td>Americas</td>\n",
              "      <td>Northern America</td>\n",
              "      <td>United States</td>\n",
              "      <td>Missouri</td>\n",
              "      <td>Kansas City MO</td>\n",
              "      <td>Kansas City</td>\n",
              "      <td>(not set)</td>\n",
              "      <td>(not set)</td>\n",
              "      <td>google</td>\n",
              "      <td>organic</td>\n",
              "      <td>(not provided)</td>\n",
              "      <td>NaN</td>\n",
              "      <td>NaN</td>\n",
              "      <td>NaN</td>\n",
              "      <td>NaN</td>\n",
              "      <td>4</td>\n",
              "      <td>3</td>\n",
              "      <td>NaN</td>\n",
              "      <td>1.0</td>\n",
              "      <td>0.0</td>\n",
              "    </tr>\n",
              "    <tr>\n",
              "      <th>2</th>\n",
              "      <td>0011056874471185769</td>\n",
              "      <td>1</td>\n",
              "      <td>Social</td>\n",
              "      <td>20161205</td>\n",
              "      <td>0011056874471185769_1480996024</td>\n",
              "      <td>1480996024</td>\n",
              "      <td>1480996024</td>\n",
              "      <td>Chrome</td>\n",
              "      <td>Windows</td>\n",
              "      <td>False</td>\n",
              "      <td>desktop</td>\n",
              "      <td>Asia</td>\n",
              "      <td>Southeast Asia</td>\n",
              "      <td>Philippines</td>\n",
              "      <td>not available in demo dataset</td>\n",
              "      <td>not available in demo dataset</td>\n",
              "      <td>not available in demo dataset</td>\n",
              "      <td>pldt.net</td>\n",
              "      <td>(not set)</td>\n",
              "      <td>youtube.com</td>\n",
              "      <td>referral</td>\n",
              "      <td>NaN</td>\n",
              "      <td>NaN</td>\n",
              "      <td>/yt/about/</td>\n",
              "      <td>NaN</td>\n",
              "      <td>NaN</td>\n",
              "      <td>2</td>\n",
              "      <td>2</td>\n",
              "      <td>NaN</td>\n",
              "      <td>1.0</td>\n",
              "      <td>0.0</td>\n",
              "      <td>1</td>\n",
              "      <td>Social</td>\n",
              "      <td>20161205</td>\n",
              "      <td>0011056874471185769_1480996024</td>\n",
              "      <td>1480996024</td>\n",
              "      <td>1</td>\n",
              "      <td>1480996024</td>\n",
              "      <td>Chrome</td>\n",
              "      <td>Windows</td>\n",
              "      <td>False</td>\n",
              "      <td>desktop</td>\n",
              "      <td>Asia</td>\n",
              "      <td>Southeast Asia</td>\n",
              "      <td>Philippines</td>\n",
              "      <td>not available in demo dataset</td>\n",
              "      <td>not available in demo dataset</td>\n",
              "      <td>not available in demo dataset</td>\n",
              "      <td>pldt.net</td>\n",
              "      <td>(not set)</td>\n",
              "      <td>youtube.com</td>\n",
              "      <td>referral</td>\n",
              "      <td>NaN</td>\n",
              "      <td>NaN</td>\n",
              "      <td>/yt/about/</td>\n",
              "      <td>NaN</td>\n",
              "      <td>NaN</td>\n",
              "      <td>2</td>\n",
              "      <td>2</td>\n",
              "      <td>NaN</td>\n",
              "      <td>1.0</td>\n",
              "      <td>0.0</td>\n",
              "    </tr>\n",
              "    <tr>\n",
              "      <th>3</th>\n",
              "      <td>0014443856125569702</td>\n",
              "      <td>1</td>\n",
              "      <td>Social</td>\n",
              "      <td>20161002</td>\n",
              "      <td>0014443856125569702_1475423502</td>\n",
              "      <td>1475423502</td>\n",
              "      <td>1475423502</td>\n",
              "      <td>Opera</td>\n",
              "      <td>Windows</td>\n",
              "      <td>False</td>\n",
              "      <td>desktop</td>\n",
              "      <td>Europe</td>\n",
              "      <td>Eastern Europe</td>\n",
              "      <td>Romania</td>\n",
              "      <td>Bucharest</td>\n",
              "      <td>(not set)</td>\n",
              "      <td>Bucharest</td>\n",
              "      <td>rdsnet.ro</td>\n",
              "      <td>(not set)</td>\n",
              "      <td>youtube.com</td>\n",
              "      <td>referral</td>\n",
              "      <td>NaN</td>\n",
              "      <td>NaN</td>\n",
              "      <td>/yt/about/ro/</td>\n",
              "      <td>NaN</td>\n",
              "      <td>NaN</td>\n",
              "      <td>1</td>\n",
              "      <td>1</td>\n",
              "      <td>1.0</td>\n",
              "      <td>1.0</td>\n",
              "      <td>0.0</td>\n",
              "      <td>1</td>\n",
              "      <td>Social</td>\n",
              "      <td>20161002</td>\n",
              "      <td>0014443856125569702_1475423502</td>\n",
              "      <td>1475423502</td>\n",
              "      <td>1</td>\n",
              "      <td>1475423502</td>\n",
              "      <td>Opera</td>\n",
              "      <td>Windows</td>\n",
              "      <td>False</td>\n",
              "      <td>desktop</td>\n",
              "      <td>Europe</td>\n",
              "      <td>Eastern Europe</td>\n",
              "      <td>Romania</td>\n",
              "      <td>Bucharest</td>\n",
              "      <td>(not set)</td>\n",
              "      <td>Bucharest</td>\n",
              "      <td>rdsnet.ro</td>\n",
              "      <td>(not set)</td>\n",
              "      <td>youtube.com</td>\n",
              "      <td>referral</td>\n",
              "      <td>NaN</td>\n",
              "      <td>NaN</td>\n",
              "      <td>/yt/about/ro/</td>\n",
              "      <td>NaN</td>\n",
              "      <td>NaN</td>\n",
              "      <td>1</td>\n",
              "      <td>1</td>\n",
              "      <td>1.0</td>\n",
              "      <td>1.0</td>\n",
              "      <td>0.0</td>\n",
              "    </tr>\n",
              "    <tr>\n",
              "      <th>4</th>\n",
              "      <td>0017260116665815114</td>\n",
              "      <td>6</td>\n",
              "      <td>Direct</td>\n",
              "      <td>20170420</td>\n",
              "      <td>0017260116665815114_1492707286</td>\n",
              "      <td>1492707286</td>\n",
              "      <td>1492707286</td>\n",
              "      <td>Safari</td>\n",
              "      <td>Macintosh</td>\n",
              "      <td>False</td>\n",
              "      <td>desktop</td>\n",
              "      <td>Americas</td>\n",
              "      <td>Northern America</td>\n",
              "      <td>United States</td>\n",
              "      <td>not available in demo dataset</td>\n",
              "      <td>not available in demo dataset</td>\n",
              "      <td>not available in demo dataset</td>\n",
              "      <td>comcastbusiness.net</td>\n",
              "      <td>(not set)</td>\n",
              "      <td>(direct)</td>\n",
              "      <td>(none)</td>\n",
              "      <td>NaN</td>\n",
              "      <td>True</td>\n",
              "      <td>NaN</td>\n",
              "      <td>NaN</td>\n",
              "      <td>NaN</td>\n",
              "      <td>2</td>\n",
              "      <td>2</td>\n",
              "      <td>NaN</td>\n",
              "      <td>NaN</td>\n",
              "      <td>0.0</td>\n",
              "      <td>6</td>\n",
              "      <td>Direct</td>\n",
              "      <td>20170420</td>\n",
              "      <td>0017260116665815114_1492707286</td>\n",
              "      <td>1492707286</td>\n",
              "      <td>6</td>\n",
              "      <td>1492707286</td>\n",
              "      <td>Safari</td>\n",
              "      <td>Macintosh</td>\n",
              "      <td>False</td>\n",
              "      <td>desktop</td>\n",
              "      <td>Americas</td>\n",
              "      <td>Northern America</td>\n",
              "      <td>United States</td>\n",
              "      <td>not available in demo dataset</td>\n",
              "      <td>not available in demo dataset</td>\n",
              "      <td>not available in demo dataset</td>\n",
              "      <td>comcastbusiness.net</td>\n",
              "      <td>(not set)</td>\n",
              "      <td>(direct)</td>\n",
              "      <td>(none)</td>\n",
              "      <td>NaN</td>\n",
              "      <td>True</td>\n",
              "      <td>NaN</td>\n",
              "      <td>NaN</td>\n",
              "      <td>NaN</td>\n",
              "      <td>2</td>\n",
              "      <td>2</td>\n",
              "      <td>NaN</td>\n",
              "      <td>NaN</td>\n",
              "      <td>0.0</td>\n",
              "    </tr>\n",
              "  </tbody>\n",
              "</table>\n",
              "</div>\n",
              "      <button class=\"colab-df-convert\" onclick=\"convertToInteractive('df-f17461d3-0038-42bd-bd66-c77318fc5639')\"\n",
              "              title=\"Convert this dataframe to an interactive table.\"\n",
              "              style=\"display:none;\">\n",
              "        \n",
              "  <svg xmlns=\"http://www.w3.org/2000/svg\" height=\"24px\"viewBox=\"0 0 24 24\"\n",
              "       width=\"24px\">\n",
              "    <path d=\"M0 0h24v24H0V0z\" fill=\"none\"/>\n",
              "    <path d=\"M18.56 5.44l.94 2.06.94-2.06 2.06-.94-2.06-.94-.94-2.06-.94 2.06-2.06.94zm-11 1L8.5 8.5l.94-2.06 2.06-.94-2.06-.94L8.5 2.5l-.94 2.06-2.06.94zm10 10l.94 2.06.94-2.06 2.06-.94-2.06-.94-.94-2.06-.94 2.06-2.06.94z\"/><path d=\"M17.41 7.96l-1.37-1.37c-.4-.4-.92-.59-1.43-.59-.52 0-1.04.2-1.43.59L10.3 9.45l-7.72 7.72c-.78.78-.78 2.05 0 2.83L4 21.41c.39.39.9.59 1.41.59.51 0 1.02-.2 1.41-.59l7.78-7.78 2.81-2.81c.8-.78.8-2.07 0-2.86zM5.41 20L4 18.59l7.72-7.72 1.47 1.35L5.41 20z\"/>\n",
              "  </svg>\n",
              "      </button>\n",
              "      \n",
              "  <style>\n",
              "    .colab-df-container {\n",
              "      display:flex;\n",
              "      flex-wrap:wrap;\n",
              "      gap: 12px;\n",
              "    }\n",
              "\n",
              "    .colab-df-convert {\n",
              "      background-color: #E8F0FE;\n",
              "      border: none;\n",
              "      border-radius: 50%;\n",
              "      cursor: pointer;\n",
              "      display: none;\n",
              "      fill: #1967D2;\n",
              "      height: 32px;\n",
              "      padding: 0 0 0 0;\n",
              "      width: 32px;\n",
              "    }\n",
              "\n",
              "    .colab-df-convert:hover {\n",
              "      background-color: #E2EBFA;\n",
              "      box-shadow: 0px 1px 2px rgba(60, 64, 67, 0.3), 0px 1px 3px 1px rgba(60, 64, 67, 0.15);\n",
              "      fill: #174EA6;\n",
              "    }\n",
              "\n",
              "    [theme=dark] .colab-df-convert {\n",
              "      background-color: #3B4455;\n",
              "      fill: #D2E3FC;\n",
              "    }\n",
              "\n",
              "    [theme=dark] .colab-df-convert:hover {\n",
              "      background-color: #434B5C;\n",
              "      box-shadow: 0px 1px 3px 1px rgba(0, 0, 0, 0.15);\n",
              "      filter: drop-shadow(0px 1px 2px rgba(0, 0, 0, 0.3));\n",
              "      fill: #FFFFFF;\n",
              "    }\n",
              "  </style>\n",
              "\n",
              "      <script>\n",
              "        const buttonEl =\n",
              "          document.querySelector('#df-f17461d3-0038-42bd-bd66-c77318fc5639 button.colab-df-convert');\n",
              "        buttonEl.style.display =\n",
              "          google.colab.kernel.accessAllowed ? 'block' : 'none';\n",
              "\n",
              "        async function convertToInteractive(key) {\n",
              "          const element = document.querySelector('#df-f17461d3-0038-42bd-bd66-c77318fc5639');\n",
              "          const dataTable =\n",
              "            await google.colab.kernel.invokeFunction('convertToInteractive',\n",
              "                                                     [key], {});\n",
              "          if (!dataTable) return;\n",
              "\n",
              "          const docLinkHtml = 'Like what you see? Visit the ' +\n",
              "            '<a target=\"_blank\" href=https://colab.research.google.com/notebooks/data_table.ipynb>data table notebook</a>'\n",
              "            + ' to learn more about interactive tables.';\n",
              "          element.innerHTML = '';\n",
              "          dataTable['output_type'] = 'display_data';\n",
              "          await google.colab.output.renderOutput(dataTable, element);\n",
              "          const docLink = document.createElement('div');\n",
              "          docLink.innerHTML = docLinkHtml;\n",
              "          element.appendChild(docLink);\n",
              "        }\n",
              "      </script>\n",
              "    </div>\n",
              "  </div>\n",
              "  "
            ],
            "text/plain": [
              "         fullVisitorId  ...  transactionRevenue_primeira\n",
              "0  0002365800130207040  ...                          0.0\n",
              "1  0010286039787739137  ...                          0.0\n",
              "2  0011056874471185769  ...                          0.0\n",
              "3  0014443856125569702  ...                          0.0\n",
              "4  0017260116665815114  ...                          0.0\n",
              "\n",
              "[5 rows x 62 columns]"
            ]
          },
          "metadata": {},
          "execution_count": 46
        }
      ]
    },
    {
      "cell_type": "markdown",
      "source": [
        "**Limpando a base de dados**"
      ],
      "metadata": {
        "id": "8JcgO2jNkvnt"
      }
    },
    {
      "cell_type": "code",
      "source": [
        "for coluna in vars_quants:\n",
        "  visitas.drop(coluna + '_ultima',axis = 1, inplace = True)\n",
        "  visitas.drop(coluna + '_primeira', axis = 1, inplace = True)"
      ],
      "metadata": {
        "id": "4JCBZxqWkwRv"
      },
      "execution_count": 47,
      "outputs": []
    },
    {
      "cell_type": "markdown",
      "source": [
        "Removendo as variáveis id's"
      ],
      "metadata": {
        "id": "nhaFmH_7lqU3"
      }
    },
    {
      "cell_type": "code",
      "source": [
        "ids = ['visitId_ultima','visitId_primeira','sessionId_primeira','sessionId_ultima']\n",
        "visitas.drop(columns = ids, inplace = True)"
      ],
      "metadata": {
        "id": "EW3NCHuMk2YE"
      },
      "execution_count": 48,
      "outputs": []
    },
    {
      "cell_type": "markdown",
      "source": [
        "Mantendo apenas as variáveis geográficas da última visita "
      ],
      "metadata": {
        "id": "_4I4yLdcl46Z"
      }
    },
    {
      "cell_type": "code",
      "source": [
        "geo = ['city_primeira','continent_primeira','country_primeira',\n",
        "       'metro_primeira','region_primeira',\n",
        "       'networkDomain_primeira','subContinent_primeira']\n",
        "visitas.drop(columns = geo, inplace = True)"
      ],
      "metadata": {
        "id": "5uVHmuCHl4Q9"
      },
      "execution_count": 49,
      "outputs": []
    },
    {
      "cell_type": "markdown",
      "source": [
        "Criando uma nova coluna com o tempo entre a primeira e a última visita"
      ],
      "metadata": {
        "id": "K19s5TtTmg8t"
      }
    },
    {
      "cell_type": "code",
      "source": [
        "visitas = pd.merge(visitas,df_quant, left_on=['fullVisitorId'],\n",
        "              right_on=['fullVisitorId'],how='left')"
      ],
      "metadata": {
        "id": "-1wn22jumm-7"
      },
      "execution_count": 50,
      "outputs": []
    },
    {
      "cell_type": "code",
      "source": [
        "visitas['tempo_entre_primeira_ultima_visita'] = visitas['visitStartTime_ultima'] - visitas['visitStartTime_primeira']"
      ],
      "metadata": {
        "id": "7dwPfOyBm2o1"
      },
      "execution_count": 51,
      "outputs": []
    },
    {
      "cell_type": "code",
      "source": [
        "visitas['ano_ultima'] = pd.to_numeric([data[0:4] for data in visitas.date_ultima])\n",
        "visitas['mes_ultima'] = pd.to_numeric([data[4:6] for data in visitas.date_ultima])\n",
        "visitas['dia_ultima'] = pd.to_numeric([data[6:8] for data in visitas.date_ultima])\n",
        "\n",
        "visitas['ano_primeira'] = pd.to_numeric([data[0:4] for data in visitas.date_primeira])\n",
        "visitas['mes_primeira'] = pd.to_numeric([data[4:6] for data in visitas.date_primeira])\n",
        "visitas['dia_primeira'] = pd.to_numeric([data[6:8] for data in visitas.date_primeira])"
      ],
      "metadata": {
        "id": "WklGnTuvnXhE"
      },
      "execution_count": 55,
      "outputs": []
    },
    {
      "cell_type": "markdown",
      "source": [
        "Adicionando a variável visitas"
      ],
      "metadata": {
        "id": "tsTvLELKnHh5"
      }
    },
    {
      "cell_type": "code",
      "source": [
        "visits = df.groupby('fullVisitorId', as_index = False).count().visitNumber.values\n",
        "visitas['visits'] = visits"
      ],
      "metadata": {
        "id": "0YOzMpYDm7ZE"
      },
      "execution_count": 54,
      "outputs": []
    },
    {
      "cell_type": "markdown",
      "source": [
        "**Melhorando o modelo**"
      ],
      "metadata": {
        "id": "QGa32foGnaOX"
      }
    },
    {
      "cell_type": "code",
      "source": [
        "visitas.drop(columns = 'fullVisitorId', inplace = True)"
      ],
      "metadata": {
        "id": "OYuN4-VandUS"
      },
      "execution_count": 56,
      "outputs": []
    },
    {
      "cell_type": "code",
      "source": [
        "y = visitas.transactionRevenue.copy()\n",
        "X = visitas.drop(columns = 'transactionRevenue')"
      ],
      "metadata": {
        "id": "Z64hiWbLngUO"
      },
      "execution_count": 57,
      "outputs": []
    },
    {
      "cell_type": "markdown",
      "source": [
        "Usando o Label Encoder nas variáveis qualitativas"
      ],
      "metadata": {
        "id": "6NiVPVCrnthF"
      }
    },
    {
      "cell_type": "code",
      "source": [
        "vars_quali = visitas.dtypes[visitas.dtypes == object].keys()\n",
        "for coluna in vars_quali:\n",
        "  label_encoder = LabelEncoder()\n",
        "  strings = list(X[coluna].values.astype('str'))\n",
        "  label_encoder.fit(strings)\n",
        "  X[coluna] = label_encoder.transform(strings)"
      ],
      "metadata": {
        "id": "sfKwnpIwnoD9"
      },
      "execution_count": null,
      "outputs": []
    },
    {
      "cell_type": "code",
      "source": [
        "X_train, X_test,y_train,y_test = train_test_split(X,y,test_size = 0.3, random_state = 50)"
      ],
      "metadata": {
        "id": "WM4dsqeFoF90"
      },
      "execution_count": 59,
      "outputs": []
    },
    {
      "cell_type": "code",
      "source": [
        "model = LinearRegression()\n",
        "model.fit(X_train,y_train)\n",
        "predict = model.predict(X_test)"
      ],
      "metadata": {
        "id": "PGt5XIL9oIXc"
      },
      "execution_count": 60,
      "outputs": []
    },
    {
      "cell_type": "code",
      "source": [
        "predict[predict < 0] = 0"
      ],
      "metadata": {
        "id": "ZDOO7OMMoKtu"
      },
      "execution_count": 61,
      "outputs": []
    },
    {
      "cell_type": "code",
      "source": [
        "sns.boxplot(predict)"
      ],
      "metadata": {
        "colab": {
          "base_uri": "https://localhost:8080/",
          "height": 337
        },
        "id": "rvW2TyNqoOmV",
        "outputId": "d6ff1cb2-8100-4b57-e521-ad921a63a200"
      },
      "execution_count": 62,
      "outputs": [
        {
          "output_type": "stream",
          "name": "stderr",
          "text": [
            "/usr/local/lib/python3.7/dist-packages/seaborn/_decorators.py:43: FutureWarning: Pass the following variable as a keyword arg: x. From version 0.12, the only valid positional argument will be `data`, and passing other arguments without an explicit keyword will result in an error or misinterpretation.\n",
            "  FutureWarning\n"
          ]
        },
        {
          "output_type": "execute_result",
          "data": {
            "text/plain": [
              "<matplotlib.axes._subplots.AxesSubplot at 0x7fe49d779f90>"
            ]
          },
          "metadata": {},
          "execution_count": 62
        },
        {
          "output_type": "display_data",
          "data": {
            "image/png": "[encoded data removed]",
            "text/plain": [
              "<Figure size 432x288 with 1 Axes>"
            ]
          },
          "metadata": {
            "needs_background": "light"
          }
        }
      ]
    },
    {
      "cell_type": "code",
      "source": [
        "np.sqrt(mean_squared_error(y_test,predict))"
      ],
      "metadata": {
        "colab": {
          "base_uri": "https://localhost:8080/"
        },
        "id": "AhR2BX44opcr",
        "outputId": "63fffe48-2b63-431f-b0bb-916a5b621d8c"
      },
      "execution_count": 63,
      "outputs": [
        {
          "output_type": "execute_result",
          "data": {
            "text/plain": [
              "27.663606376300667"
            ]
          },
          "metadata": {},
          "execution_count": 63
        }
      ]
    },
    {
      "cell_type": "markdown",
      "source": [
        "**Treinando o gradient boosting**"
      ],
      "metadata": {
        "id": "i7bMRqjIovYA"
      }
    },
    {
      "cell_type": "code",
      "source": [
        "gb = GradientBoostingRegressor(random_state = 49)\n",
        "gb.fit(X_train,y_train)\n",
        "gb_predict = gb.predict(X_test)"
      ],
      "metadata": {
        "id": "R2zDjwNgoxOl"
      },
      "execution_count": 64,
      "outputs": []
    },
    {
      "cell_type": "code",
      "source": [
        "gb_predict[gb_predict < 0] = 0"
      ],
      "metadata": {
        "id": "nqM-n2dxo1Lz"
      },
      "execution_count": 65,
      "outputs": []
    },
    {
      "cell_type": "code",
      "source": [
        "sns.boxplot(predict)"
      ],
      "metadata": {
        "colab": {
          "base_uri": "https://localhost:8080/",
          "height": 337
        },
        "id": "77zsbdf2o29h",
        "outputId": "caeb2875-5c54-4ac6-f0f3-c30ed125a541"
      },
      "execution_count": 66,
      "outputs": [
        {
          "output_type": "stream",
          "name": "stderr",
          "text": [
            "/usr/local/lib/python3.7/dist-packages/seaborn/_decorators.py:43: FutureWarning: Pass the following variable as a keyword arg: x. From version 0.12, the only valid positional argument will be `data`, and passing other arguments without an explicit keyword will result in an error or misinterpretation.\n",
            "  FutureWarning\n"
          ]
        },
        {
          "output_type": "execute_result",
          "data": {
            "text/plain": [
              "<matplotlib.axes._subplots.AxesSubplot at 0x7fe49d677f50>"
            ]
          },
          "metadata": {},
          "execution_count": 66
        },
        {
          "output_type": "display_data",
          "data": {
            "image/png": "[encoded data removed]",
            "text/plain": [
              "<Figure size 432x288 with 1 Axes>"
            ]
          },
          "metadata": {
            "needs_background": "light"
          }
        }
      ]
    },
    {
      "cell_type": "code",
      "source": [
        "np.sqrt(mean_squared_error(y_test,gb_predict))"
      ],
      "metadata": {
        "colab": {
          "base_uri": "https://localhost:8080/"
        },
        "id": "F14dqclxo5hR",
        "outputId": "0e0338ab-7280-4a13-fc7c-3e9a1e608a19"
      },
      "execution_count": 67,
      "outputs": [
        {
          "output_type": "execute_result",
          "data": {
            "text/plain": [
              "28.72750465097226"
            ]
          },
          "metadata": {},
          "execution_count": 67
        }
      ]
    }
  ]
}